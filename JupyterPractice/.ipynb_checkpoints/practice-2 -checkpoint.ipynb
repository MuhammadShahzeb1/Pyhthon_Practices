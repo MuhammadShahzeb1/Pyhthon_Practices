{
 "cells": [
  {
   "cell_type": "markdown",
   "id": "f84d6b3e",
   "metadata": {},
   "source": [
    "##  Basic Data Structures"
   ]
  },
  {
   "cell_type": "markdown",
   "id": "24b9179d",
   "metadata": {},
   "source": [
    "### basic Data structures includes \n",
    "--tuples\n",
    "--list\n",
    "--dictionary\n",
    "--sets\n",
    "-- lil quiz\n"
   ]
  },
  {
   "cell_type": "markdown",
   "id": "a5b88f5d",
   "metadata": {},
   "source": [
    "#### Tuples"
   ]
  },
  {
   "cell_type": "code",
   "execution_count": 1,
   "id": "17c475ad",
   "metadata": {},
   "outputs": [
    {
     "data": {
      "text/plain": [
       "('hi', 12, 234, True, 34.5)"
      ]
     },
     "execution_count": 1,
     "metadata": {},
     "output_type": "execute_result"
    }
   ],
   "source": [
    "tup1=(\"hi\",12,234,True,34.5)\n",
    "tup1"
   ]
  },
  {
   "cell_type": "code",
   "execution_count": 2,
   "id": "fd7f2beb",
   "metadata": {},
   "outputs": [
    {
     "data": {
      "text/plain": [
       "('hi', 12, 234, True, 34.5, 'Ahmed', 8098, 904.2, False)"
      ]
     },
     "execution_count": 2,
     "metadata": {},
     "output_type": "execute_result"
    }
   ],
   "source": [
    "tup2=(\"Ahmed\",8098,904.2,False)\n",
    "tup1+tup2"
   ]
  },
  {
   "cell_type": "code",
   "execution_count": 3,
   "id": "07ed9dc5",
   "metadata": {},
   "outputs": [
    {
     "data": {
      "text/plain": [
       "('hi',\n",
       " 12,\n",
       " 234,\n",
       " True,\n",
       " 34.5,\n",
       " 'hi',\n",
       " 12,\n",
       " 234,\n",
       " True,\n",
       " 34.5,\n",
       " 'Ahmed',\n",
       " 8098,\n",
       " 904.2,\n",
       " False)"
      ]
     },
     "execution_count": 3,
     "metadata": {},
     "output_type": "execute_result"
    }
   ],
   "source": [
    "tup1*2+tup2"
   ]
  },
  {
   "cell_type": "code",
   "execution_count": 4,
   "id": "4364166a",
   "metadata": {},
   "outputs": [
    {
     "data": {
      "text/plain": [
       "234"
      ]
     },
     "execution_count": 4,
     "metadata": {},
     "output_type": "execute_result"
    }
   ],
   "source": [
    "tup1[2]"
   ]
  },
  {
   "cell_type": "code",
   "execution_count": 5,
   "id": "d0217ac1",
   "metadata": {},
   "outputs": [],
   "source": [
    "tup3=tup1+tup2"
   ]
  },
  {
   "cell_type": "code",
   "execution_count": 6,
   "id": "c706d58d",
   "metadata": {},
   "outputs": [
    {
     "data": {
      "text/plain": [
       "('hi', 12, 234, True, 34.5, 'Ahmed', 8098, 904.2, False)"
      ]
     },
     "execution_count": 6,
     "metadata": {},
     "output_type": "execute_result"
    }
   ],
   "source": [
    "tup3"
   ]
  },
  {
   "cell_type": "code",
   "execution_count": 8,
   "id": "615f3958",
   "metadata": {},
   "outputs": [
    {
     "data": {
      "text/plain": [
       "9"
      ]
     },
     "execution_count": 8,
     "metadata": {},
     "output_type": "execute_result"
    }
   ],
   "source": [
    "len(tup3)"
   ]
  },
  {
   "cell_type": "code",
   "execution_count": 12,
   "id": "b8f714d0",
   "metadata": {},
   "outputs": [
    {
     "data": {
      "text/plain": [
       "1"
      ]
     },
     "execution_count": 12,
     "metadata": {},
     "output_type": "execute_result"
    }
   ],
   "source": [
    "tup3.count(12)"
   ]
  },
  {
   "cell_type": "code",
   "execution_count": 18,
   "id": "215f6cae",
   "metadata": {},
   "outputs": [
    {
     "name": "stdout",
     "output_type": "stream",
     "text": [
      "63\n"
     ]
    },
    {
     "data": {
      "text/plain": [
       "56"
      ]
     },
     "execution_count": 18,
     "metadata": {},
     "output_type": "execute_result"
    }
   ],
   "source": [
    "tup4=(12,34,45,56,7)\n",
    "print(min(tup4)+max(tup4))\n",
    "print(min(tup4))\n",
    "max(tup4)"
   ]
  },
  {
   "cell_type": "markdown",
   "id": "c2fce67a",
   "metadata": {},
   "source": [
    "### List"
   ]
  },
  {
   "cell_type": "code",
   "execution_count": 21,
   "id": "97c8da69",
   "metadata": {},
   "outputs": [
    {
     "data": {
      "text/plain": [
       "['hi', 345, 63.6, True]"
      ]
     },
     "execution_count": 21,
     "metadata": {},
     "output_type": "execute_result"
    }
   ],
   "source": [
    "list1=[\"hi\",345,63.6,True]\n",
    "list1"
   ]
  },
  {
   "cell_type": "code",
   "execution_count": 23,
   "id": "4695c962",
   "metadata": {},
   "outputs": [
    {
     "data": {
      "text/plain": [
       "['hi', 345, 63.6, True, 'oejr', 342]"
      ]
     },
     "execution_count": 23,
     "metadata": {},
     "output_type": "execute_result"
    }
   ],
   "source": [
    "list2=[\"oejr\",342]\n",
    "list1+list2"
   ]
  },
  {
   "cell_type": "code",
   "execution_count": 25,
   "id": "d7a6736d",
   "metadata": {},
   "outputs": [
    {
     "data": {
      "text/plain": [
       "[12, 23, 5, 123, 23, 235, 232, 2, 2, 23, 235]"
      ]
     },
     "execution_count": 25,
     "metadata": {},
     "output_type": "execute_result"
    }
   ],
   "source": [
    "list3=[12,23,5,123,23,235]\n",
    "list4=[232,2,2,23,235]\n",
    "list5=list3+list4\n",
    "list5"
   ]
  },
  {
   "cell_type": "code",
   "execution_count": 26,
   "id": "20662b65",
   "metadata": {},
   "outputs": [
    {
     "data": {
      "text/plain": [
       "235"
      ]
     },
     "execution_count": 26,
     "metadata": {},
     "output_type": "execute_result"
    }
   ],
   "source": [
    "max(list5)"
   ]
  },
  {
   "cell_type": "code",
   "execution_count": 27,
   "id": "396dec46",
   "metadata": {},
   "outputs": [
    {
     "data": {
      "text/plain": [
       "470"
      ]
     },
     "execution_count": 27,
     "metadata": {},
     "output_type": "execute_result"
    }
   ],
   "source": [
    "max(list3)+max(list4)"
   ]
  },
  {
   "cell_type": "code",
   "execution_count": 29,
   "id": "5d0a13dc",
   "metadata": {},
   "outputs": [
    {
     "data": {
      "text/plain": [
       "[232, 2, 2, 23, 235, 434, 434]"
      ]
     },
     "execution_count": 29,
     "metadata": {},
     "output_type": "execute_result"
    }
   ],
   "source": [
    "list4.append(434)\n",
    "list4\n",
    "\n",
    "\n",
    "\n"
   ]
  },
  {
   "cell_type": "code",
   "execution_count": 35,
   "id": "78b11428",
   "metadata": {},
   "outputs": [
    {
     "data": {
      "text/plain": [
       "[2, 2, 23, 232, 235, 434, 434]"
      ]
     },
     "execution_count": 35,
     "metadata": {},
     "output_type": "execute_result"
    }
   ],
   "source": [
    "list4.reverse()\n",
    "list4"
   ]
  },
  {
   "cell_type": "code",
   "execution_count": 37,
   "id": "3eeb331b",
   "metadata": {},
   "outputs": [
    {
     "data": {
      "text/plain": [
       "[2, 2, 23, 232, 235, 434, 434]"
      ]
     },
     "execution_count": 37,
     "metadata": {},
     "output_type": "execute_result"
    }
   ],
   "source": [
    "list4.sort()#\n",
    "list4"
   ]
  },
  {
   "cell_type": "code",
   "execution_count": 40,
   "id": "34d153a5",
   "metadata": {},
   "outputs": [
    {
     "data": {
      "text/plain": [
       "[12, 23, 5, 123, 23, 235, 'lkdn', 'lkdn', 'lkdn']"
      ]
     },
     "execution_count": 40,
     "metadata": {},
     "output_type": "execute_result"
    }
   ],
   "source": [
    "list3.append(\"lkdn\")\n",
    "list3"
   ]
  },
  {
   "cell_type": "markdown",
   "id": "5fc5a301",
   "metadata": {},
   "source": [
    "### Dictionary"
   ]
  },
  {
   "cell_type": "code",
   "execution_count": 43,
   "id": "a3e91242",
   "metadata": {},
   "outputs": [
    {
     "data": {
      "text/plain": [
       "{'A': 20, 'B': 30, 'C': 40, 'D': 50}"
      ]
     },
     "execution_count": 43,
     "metadata": {},
     "output_type": "execute_result"
    }
   ],
   "source": [
    "dict1={\"A\":20,\"B\":30,\"C\":40,\"D\":50}\n",
    "dict1"
   ]
  },
  {
   "cell_type": "code",
   "execution_count": 46,
   "id": "d5773ad9",
   "metadata": {},
   "outputs": [
    {
     "data": {
      "text/plain": [
       "dict_keys(['A', 'B', 'C', 'D'])"
      ]
     },
     "execution_count": 46,
     "metadata": {},
     "output_type": "execute_result"
    }
   ],
   "source": [
    "dict1.keys()"
   ]
  },
  {
   "cell_type": "code",
   "execution_count": 48,
   "id": "7f91274a",
   "metadata": {},
   "outputs": [
    {
     "data": {
      "text/plain": [
       "dict_values([20, 30, 40, 50])"
      ]
     },
     "execution_count": 48,
     "metadata": {},
     "output_type": "execute_result"
    }
   ],
   "source": [
    "dict1.values()"
   ]
  },
  {
   "cell_type": "code",
   "execution_count": 51,
   "id": "6611c8e0",
   "metadata": {},
   "outputs": [],
   "source": [
    "dict1[\"A\"]=25"
   ]
  },
  {
   "cell_type": "code",
   "execution_count": 54,
   "id": "b7b79efb",
   "metadata": {},
   "outputs": [
    {
     "data": {
      "text/plain": [
       "{'A': 25, 'B': 30, 'C': 40, 'D': 50}"
      ]
     },
     "execution_count": 54,
     "metadata": {},
     "output_type": "execute_result"
    }
   ],
   "source": [
    "dict1"
   ]
  },
  {
   "cell_type": "code",
   "execution_count": 58,
   "id": "95a90791",
   "metadata": {},
   "outputs": [
    {
     "data": {
      "text/plain": [
       "{'a': 1, 'b': 2, 'c': 3, 'd': 4}"
      ]
     },
     "execution_count": 58,
     "metadata": {},
     "output_type": "execute_result"
    }
   ],
   "source": [
    "dict2={\"a\":1,\"b\":2,\"c\":3,\"d\":4}\n",
    "dict2"
   ]
  },
  {
   "cell_type": "code",
   "execution_count": 59,
   "id": "9ffa8ef4",
   "metadata": {},
   "outputs": [],
   "source": [
    "dict1.update(dict2)"
   ]
  },
  {
   "cell_type": "code",
   "execution_count": 63,
   "id": "bb0a52e3",
   "metadata": {},
   "outputs": [
    {
     "data": {
      "text/plain": [
       "{'A': 25, 'B': 30, 'C': 40, 'D': 50, 'a': 1, 'b': 2, 'c': 3, 'd': 4}"
      ]
     },
     "execution_count": 63,
     "metadata": {},
     "output_type": "execute_result"
    }
   ],
   "source": [
    "dict1"
   ]
  },
  {
   "cell_type": "markdown",
   "id": "3c419f11",
   "metadata": {},
   "source": [
    "### Sets"
   ]
  },
  {
   "cell_type": "code",
   "execution_count": 65,
   "id": "74a77150",
   "metadata": {},
   "outputs": [
    {
     "data": {
      "text/plain": [
       "{1, 2, 4, 5, 'Jhelum', 'Pakistan'}"
      ]
     },
     "execution_count": 65,
     "metadata": {},
     "output_type": "execute_result"
    }
   ],
   "source": [
    "s1={1,2,4,5,\"Jhelum\",\"Pakistan\"}\n",
    "s1\n"
   ]
  },
  {
   "cell_type": "code",
   "execution_count": 73,
   "id": "38df41f0",
   "metadata": {},
   "outputs": [
    {
     "data": {
      "text/plain": [
       "{1, 2, 4, 'Hamid', 'Jhelum', 'Pakistan'}"
      ]
     },
     "execution_count": 73,
     "metadata": {},
     "output_type": "execute_result"
    }
   ],
   "source": [
    "s1.add(\"Hamid\")\n",
    "s1\n"
   ]
  },
  {
   "cell_type": "code",
   "execution_count": 78,
   "id": "9c64ddd6",
   "metadata": {},
   "outputs": [
    {
     "data": {
      "text/plain": [
       "{1, 'Hamid', 'Jhelum', 'Pakistan'}"
      ]
     },
     "execution_count": 78,
     "metadata": {},
     "output_type": "execute_result"
    }
   ],
   "source": [
    "s1\n",
    "s1.remove(2)\n",
    "s1"
   ]
  },
  {
   "cell_type": "code",
   "execution_count": 80,
   "id": "5d48640d",
   "metadata": {},
   "outputs": [
    {
     "data": {
      "text/plain": [
       "True"
      ]
     },
     "execution_count": 80,
     "metadata": {},
     "output_type": "execute_result"
    }
   ],
   "source": [
    "s2={12,243,123,123,2,345,234}\n",
    "s3={12,123}\n",
    "s3.issubset(s2)"
   ]
  },
  {
   "cell_type": "code",
   "execution_count": 82,
   "id": "f9000017",
   "metadata": {},
   "outputs": [
    {
     "data": {
      "text/plain": [
       "{12, 123}"
      ]
     },
     "execution_count": 82,
     "metadata": {},
     "output_type": "execute_result"
    }
   ],
   "source": [
    "s2.intersection(s3)"
   ]
  },
  {
   "cell_type": "code",
   "execution_count": 84,
   "id": "6347fab8",
   "metadata": {},
   "outputs": [
    {
     "data": {
      "text/plain": [
       "{2, 12, 123, 234, 243, 345}"
      ]
     },
     "execution_count": 84,
     "metadata": {},
     "output_type": "execute_result"
    }
   ],
   "source": [
    "s2.union(s3)"
   ]
  },
  {
   "cell_type": "markdown",
   "id": "7ffc40e0",
   "metadata": {},
   "source": [
    "Lil Quiz\n",
    "building BMI "
   ]
  },
  {
   "cell_type": "code",
   "execution_count": 86,
   "id": "6e0f1ed1",
   "metadata": {},
   "outputs": [],
   "source": [
    "# BMI\n",
    "def BMI(height,weight):\n",
    "    height=float(input())\n",
    "    wieght=float(input())\n",
    "    BMI= wieght/height\n",
    "    print(\"your BMI is :  \", BMI)\n",
    "    "
   ]
  },
  {
   "cell_type": "code",
   "execution_count": 92,
   "id": "6be14f22",
   "metadata": {},
   "outputs": [
    {
     "name": "stdout",
     "output_type": "stream",
     "text": [
      "please enter your hieght in m square2.31\n",
      "please enter your wieght in kg60\n",
      "your BMI is :   25.974025974025974\n"
     ]
    }
   ],
   "source": [
    "BMI(60,2.31)"
   ]
  },
  {
   "cell_type": "code",
   "execution_count": null,
   "id": "4156796b",
   "metadata": {},
   "outputs": [],
   "source": []
  }
 ],
 "metadata": {
  "kernelspec": {
   "display_name": "Python 3",
   "language": "python",
   "name": "python3"
  },
  "language_info": {
   "codemirror_mode": {
    "name": "ipython",
    "version": 3
   },
   "file_extension": ".py",
   "mimetype": "text/x-python",
   "name": "python",
   "nbconvert_exporter": "python",
   "pygments_lexer": "ipython3",
   "version": "3.8.8"
  }
 },
 "nbformat": 4,
 "nbformat_minor": 5
}
