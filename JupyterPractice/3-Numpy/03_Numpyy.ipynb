{
 "cells": [
  {
   "cell_type": "code",
   "execution_count": 1,
   "id": "7488ce5e",
   "metadata": {},
   "outputs": [],
   "source": [
    "# never use the library or module name as file path "
   ]
  },
  {
   "cell_type": "markdown",
   "id": "90996ff1",
   "metadata": {},
   "source": [
    "### Numpy\n",
    "- it works like list\n",
    "- much faster and reliable than list\n",
    "- mostly work in 1d ,2d and 3d arrays\n"
   ]
  },
  {
   "cell_type": "code",
   "execution_count": 2,
   "id": "7d33e956",
   "metadata": {},
   "outputs": [
    {
     "name": "stdout",
     "output_type": "stream",
     "text": [
      "[  34   34  345 2345   12   45    0]\n",
      "<class 'numpy.ndarray'>\n"
     ]
    }
   ],
   "source": [
    "import numpy as np\n",
    "a= np.array([34,34,345,2345,12,45,0])\n",
    "print(a)\n",
    "print(type(a))"
   ]
  },
  {
   "cell_type": "code",
   "execution_count": 3,
   "id": "89cc7c36",
   "metadata": {},
   "outputs": [
    {
     "name": "stderr",
     "output_type": "stream",
     "text": [
      "<ipython-input-3-5f26217e5e6c>:2: VisibleDeprecationWarning: Creating an ndarray from ragged nested sequences (which is a list-or-tuple of lists-or-tuples-or ndarrays with different lengths or shapes) is deprecated. If you meant to do this, you must specify 'dtype=object' when creating the ndarray.\n",
      "  b=np.array([[34,34,345,2345,12,45],[9,34,4,5,62,3,234,432,345],[9,34,4,5,62,3,234,432,345]])\n"
     ]
    },
    {
     "data": {
      "text/plain": [
       "array([list([34, 34, 345, 2345, 12, 45]),\n",
       "       list([9, 34, 4, 5, 62, 3, 234, 432, 345]),\n",
       "       list([9, 34, 4, 5, 62, 3, 234, 432, 345])], dtype=object)"
      ]
     },
     "execution_count": 3,
     "metadata": {},
     "output_type": "execute_result"
    }
   ],
   "source": [
    "a=np.array([34,34,345,2345,12,45,0])\n",
    "b=np.array([[34,34,345,2345,12,45],[9,34,4,5,62,3,234,432,345],[9,34,4,5,62,3,234,432,345]])\n",
    "b"
   ]
  },
  {
   "cell_type": "code",
   "execution_count": 4,
   "id": "3de1f88b",
   "metadata": {},
   "outputs": [
    {
     "data": {
      "text/plain": [
       "array([0, 1, 2, 3, 4, 5])"
      ]
     },
     "execution_count": 4,
     "metadata": {},
     "output_type": "execute_result"
    }
   ],
   "source": [
    "# docuemntation link:  https://numpy.org/doc/1.23/user/absolute_beginners.html\n",
    "\n",
    "a=np.arange(0,6)\n",
    "a"
   ]
  },
  {
   "cell_type": "code",
   "execution_count": 5,
   "id": "ced929a4",
   "metadata": {},
   "outputs": [
    {
     "data": {
      "text/plain": [
       "array([[ 1,  2,  3,  4],\n",
       "       [ 5,  6,  7,  8],\n",
       "       [ 9, 10, 11, 12]])"
      ]
     },
     "execution_count": 5,
     "metadata": {},
     "output_type": "execute_result"
    }
   ],
   "source": [
    "a = np.array([[1, 2, 3, 4], [5, 6, 7, 8], [9, 10, 11, 12]])\n",
    "a"
   ]
  },
  {
   "cell_type": "code",
   "execution_count": 6,
   "id": "9677dff2",
   "metadata": {},
   "outputs": [
    {
     "data": {
      "text/plain": [
       "array([1, 2, 3, 4])"
      ]
     },
     "execution_count": 6,
     "metadata": {},
     "output_type": "execute_result"
    }
   ],
   "source": [
    "a[0]   # it will extract the first set of array"
   ]
  },
  {
   "cell_type": "code",
   "execution_count": 7,
   "id": "ede79a0e",
   "metadata": {},
   "outputs": [
    {
     "data": {
      "text/plain": [
       "1"
      ]
     },
     "execution_count": 7,
     "metadata": {},
     "output_type": "execute_result"
    }
   ],
   "source": [
    "b=a[0]\n",
    "b[0]   #it takes the first value in first array"
   ]
  },
  {
   "cell_type": "code",
   "execution_count": 8,
   "id": "203a963a",
   "metadata": {},
   "outputs": [
    {
     "name": "stdout",
     "output_type": "stream",
     "text": [
      "[0. 0. 0.]\n",
      "[1. 1. 1.]\n"
     ]
    }
   ],
   "source": [
    "# to create zeros and ones in an array\n",
    "print(np.zeros(3))\n",
    "print(np.ones(3))"
   ]
  },
  {
   "cell_type": "code",
   "execution_count": 9,
   "id": "4bd5dc1c",
   "metadata": {},
   "outputs": [
    {
     "data": {
      "text/plain": [
       "array([1., 1., 1., 1.])"
      ]
     },
     "execution_count": 9,
     "metadata": {},
     "output_type": "execute_result"
    }
   ],
   "source": [
    "# operands like +-*/ can only work on same number of values or formation\n",
    "\n",
    "c=np.zeros(4)+np.ones(4)\n",
    "c"
   ]
  },
  {
   "cell_type": "code",
   "execution_count": 10,
   "id": "0df3a9ec",
   "metadata": {},
   "outputs": [
    {
     "data": {
      "text/plain": [
       "array([0., 0., 0., 0.])"
      ]
     },
     "execution_count": 10,
     "metadata": {},
     "output_type": "execute_result"
    }
   ],
   "source": [
    "d=np.zeros(4)*np.ones(4)\n",
    "d"
   ]
  },
  {
   "cell_type": "code",
   "execution_count": 11,
   "id": "373308f7",
   "metadata": {},
   "outputs": [
    {
     "name": "stdout",
     "output_type": "stream",
     "text": [
      "[ 1  2  3  4  5  6  7  8  9 10]\n",
      "[ 0  2  4  6  8 10]\n",
      "[ 0  3  6  9 12]\n"
     ]
    }
   ],
   "source": [
    "# can create array of different ranges\n",
    "print(np.arange(1,11))\n",
    "print(np.arange(0,11, 2)) # it can also creates difference of interval like will print after 2 values\n",
    "print(np.arange(0,13, 3)) # we can print the table as wellb\n"
   ]
  },
  {
   "cell_type": "code",
   "execution_count": 12,
   "id": "c207d36e",
   "metadata": {},
   "outputs": [
    {
     "data": {
      "text/plain": [
       "array([ 0,  3,  6,  9, 12, 15, 18, 21, 24, 27, 30])"
      ]
     },
     "execution_count": 12,
     "metadata": {},
     "output_type": "execute_result"
    }
   ],
   "source": [
    "import numpy as np\n",
    "np.arange(0,33,3)"
   ]
  },
  {
   "cell_type": "code",
   "execution_count": 13,
   "id": "63d4f965",
   "metadata": {},
   "outputs": [
    {
     "data": {
      "text/plain": [
       "array([ 1.        ,  1.41558442,  1.83116883,  2.24675325,  2.66233766,\n",
       "        3.07792208,  3.49350649,  3.90909091,  4.32467532,  4.74025974,\n",
       "        5.15584416,  5.57142857,  5.98701299,  6.4025974 ,  6.81818182,\n",
       "        7.23376623,  7.64935065,  8.06493506,  8.48051948,  8.8961039 ,\n",
       "        9.31168831,  9.72727273, 10.14285714, 10.55844156, 10.97402597,\n",
       "       11.38961039, 11.80519481, 12.22077922, 12.63636364, 13.05194805,\n",
       "       13.46753247, 13.88311688, 14.2987013 , 14.71428571, 15.12987013,\n",
       "       15.54545455, 15.96103896, 16.37662338, 16.79220779, 17.20779221,\n",
       "       17.62337662, 18.03896104, 18.45454545, 18.87012987, 19.28571429,\n",
       "       19.7012987 , 20.11688312, 20.53246753, 20.94805195, 21.36363636,\n",
       "       21.77922078, 22.19480519, 22.61038961, 23.02597403, 23.44155844,\n",
       "       23.85714286, 24.27272727, 24.68831169, 25.1038961 , 25.51948052,\n",
       "       25.93506494, 26.35064935, 26.76623377, 27.18181818, 27.5974026 ,\n",
       "       28.01298701, 28.42857143, 28.84415584, 29.25974026, 29.67532468,\n",
       "       30.09090909, 30.50649351, 30.92207792, 31.33766234, 31.75324675,\n",
       "       32.16883117, 32.58441558, 33.        ])"
      ]
     },
     "execution_count": 13,
     "metadata": {},
     "output_type": "execute_result"
    }
   ],
   "source": [
    "# we can generate any sequence of number in any range\n",
    "np.linspace(0,10 ,num=12)\n",
    "e=np.linspace(1,33, num=78)\n",
    "e\n",
    "# len(e)\n"
   ]
  },
  {
   "cell_type": "code",
   "execution_count": 14,
   "id": "65d6cbad",
   "metadata": {},
   "outputs": [
    {
     "data": {
      "text/plain": [
       "array([1, 2, 3, 4, 5, 6, 7, 8])"
      ]
     },
     "execution_count": 14,
     "metadata": {},
     "output_type": "execute_result"
    }
   ],
   "source": [
    "# concatenation of two array\n",
    "a = np.array([1, 2, 3, 4])\n",
    "b = np.array([5, 6, 7, 8])\n",
    "a,b\n",
    "c=np.concatenate((a,b))\n",
    "c\n"
   ]
  },
  {
   "cell_type": "code",
   "execution_count": 15,
   "id": "f51dd11a",
   "metadata": {},
   "outputs": [
    {
     "data": {
      "text/plain": [
       "array([25, 36, 49, 64], dtype=int32)"
      ]
     },
     "execution_count": 15,
     "metadata": {},
     "output_type": "execute_result"
    }
   ],
   "source": [
    "# to create the square of whole list\n",
    "np.square(b)\n"
   ]
  },
  {
   "cell_type": "code",
   "execution_count": 16,
   "id": "5286e037",
   "metadata": {},
   "outputs": [
    {
     "name": "stdout",
     "output_type": "stream",
     "text": [
      "[1 2 3 4 5]\n",
      "[[ 1  2  3  4  5]\n",
      " [ 6  7  8  9 10]]\n",
      "[[[ 1  2  3  4  5]\n",
      "  [ 6  7  8  9 10]\n",
      "  [11 12 13 14 15]]]\n"
     ]
    }
   ],
   "source": [
    "# how to find the shape and size of an array\n",
    "array1=np.array([1,2,3,4,5])\n",
    "array2=np.array([[1,2,3,4,5],[6,7,8,9,10]])\n",
    "array3=np.array([[[1,2,3,4,5],[6,7,8,9,10],[11,12,13,14,15]]])\n",
    "print(array1)\n",
    "print(array2)\n",
    "print(array3)\n"
   ]
  },
  {
   "cell_type": "code",
   "execution_count": 17,
   "id": "00a8b134",
   "metadata": {},
   "outputs": [
    {
     "name": "stdout",
     "output_type": "stream",
     "text": [
      "3\n",
      "(1, 3, 5)\n",
      "15\n"
     ]
    }
   ],
   "source": [
    "# tp check the dimension size and shape\n",
    "print(array3.ndim)   #dimension\n",
    "print(array3.shape)  # need to learn\n",
    "print(array3.size)   #number of values "
   ]
  },
  {
   "cell_type": "code",
   "execution_count": 18,
   "id": "f9cc5dbe",
   "metadata": {},
   "outputs": [
    {
     "data": {
      "text/plain": [
       "array([[1., 1., 1., 1., 1.],\n",
       "       [1., 1., 1., 1., 1.],\n",
       "       [1., 1., 1., 1., 1.],\n",
       "       [1., 1., 1., 1., 1.],\n",
       "       [1., 1., 1., 1., 1.]])"
      ]
     },
     "execution_count": 18,
     "metadata": {},
     "output_type": "execute_result"
    }
   ],
   "source": [
    "np.zeros((4,5))\n",
    "np.ones((5,5))"
   ]
  },
  {
   "cell_type": "code",
   "execution_count": 19,
   "id": "f20af8c1",
   "metadata": {},
   "outputs": [
    {
     "data": {
      "text/plain": [
       "array([[[ 0,  1,  2,  3],\n",
       "        [ 4,  5,  6,  7],\n",
       "        [ 8,  9, 10, 11]],\n",
       "\n",
       "       [[12, 13, 14, 15],\n",
       "        [16, 17, 18, 19],\n",
       "        [20, 21, 22, 23]]])"
      ]
     },
     "execution_count": 19,
     "metadata": {},
     "output_type": "execute_result"
    }
   ],
   "source": [
    "# how to reshape an array\n",
    "np.arange(24).reshape(2,3,4)"
   ]
  },
  {
   "cell_type": "code",
   "execution_count": 20,
   "id": "1d9324c8",
   "metadata": {},
   "outputs": [
    {
     "data": {
      "text/plain": [
       "array([ 1,  2,  3,  4,  5,  6,  7,  8,  9, 10, 11])"
      ]
     },
     "execution_count": 20,
     "metadata": {},
     "output_type": "execute_result"
    }
   ],
   "source": [
    "a=np.array([1,2,3,4,5,6,7,8,9,10,11])\n",
    "a"
   ]
  },
  {
   "cell_type": "code",
   "execution_count": 21,
   "id": "01a502df",
   "metadata": {},
   "outputs": [
    {
     "data": {
      "text/plain": [
       "array([False, False, False, False,  True,  True,  True,  True,  True,\n",
       "        True,  True])"
      ]
     },
     "execution_count": 21,
     "metadata": {},
     "output_type": "execute_result"
    }
   ],
   "source": [
    "five_up = (a > 5) | (a == 5)\n",
    "five_up    # will check the condition whether that number satisfies the condition or not\n"
   ]
  },
  {
   "cell_type": "code",
   "execution_count": 25,
   "id": "5500b04a",
   "metadata": {},
   "outputs": [
    {
     "data": {
      "text/plain": [
       "array([[ 1],\n",
       "       [ 2],\n",
       "       [ 3],\n",
       "       [ 4],\n",
       "       [ 5],\n",
       "       [ 6],\n",
       "       [ 7],\n",
       "       [ 8],\n",
       "       [ 9],\n",
       "       [10],\n",
       "       [11]])"
      ]
     },
     "execution_count": 25,
     "metadata": {},
     "output_type": "execute_result"
    }
   ],
   "source": [
    "a[:, np.newaxis]\n"
   ]
  },
  {
   "cell_type": "code",
   "execution_count": 26,
   "id": "4c861772",
   "metadata": {},
   "outputs": [
    {
     "data": {
      "text/plain": [
       "66"
      ]
     },
     "execution_count": 26,
     "metadata": {},
     "output_type": "execute_result"
    }
   ],
   "source": [
    "a.sum()"
   ]
  },
  {
   "cell_type": "code",
   "execution_count": 27,
   "id": "514a7886",
   "metadata": {},
   "outputs": [
    {
     "data": {
      "text/plain": [
       "6.0"
      ]
     },
     "execution_count": 27,
     "metadata": {},
     "output_type": "execute_result"
    }
   ],
   "source": [
    "a.mean()"
   ]
  },
  {
   "cell_type": "code",
   "execution_count": 38,
   "id": "50e114cb",
   "metadata": {},
   "outputs": [
    {
     "data": {
      "text/plain": [
       "array([ 1,  2,  3,  4,  5,  6,  7,  8,  9, 10])"
      ]
     },
     "execution_count": 38,
     "metadata": {},
     "output_type": "execute_result"
    }
   ],
   "source": [
    "a[:-1]"
   ]
  },
  {
   "cell_type": "code",
   "execution_count": null,
   "id": "455d246c",
   "metadata": {},
   "outputs": [],
   "source": []
  }
 ],
 "metadata": {
  "kernelspec": {
   "display_name": "Python 3",
   "language": "python",
   "name": "python3"
  },
  "language_info": {
   "codemirror_mode": {
    "name": "ipython",
    "version": 3
   },
   "file_extension": ".py",
   "mimetype": "text/x-python",
   "name": "python",
   "nbconvert_exporter": "python",
   "pygments_lexer": "ipython3",
   "version": "3.8.8"
  }
 },
 "nbformat": 4,
 "nbformat_minor": 5
}
