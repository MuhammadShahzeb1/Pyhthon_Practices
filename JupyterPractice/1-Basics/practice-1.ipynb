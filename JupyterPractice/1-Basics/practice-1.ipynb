{
 "cells": [
  {
   "cell_type": "markdown",
   "id": "7aa5fc39",
   "metadata": {},
   "source": [
    "## Again practice for Python\n"
   ]
  },
  {
   "cell_type": "markdown",
   "id": "0efebacc",
   "metadata": {},
   "source": [
    "### basic modules practice\n",
    "\n"
   ]
  },
  {
   "cell_type": "code",
   "execution_count": 4,
   "id": "651bfd46",
   "metadata": {},
   "outputs": [
    {
     "name": "stdout",
     "output_type": "stream",
     "text": [
      "hi, I am Muhammad Shahzeb\n",
      "-1.625\n",
      "4\n",
      "4.5\n",
      "<class 'int'> <class 'float'> <class 'str'>\n"
     ]
    }
   ],
   "source": [
    "print(\"hi this is Muhammad Shahzeb\")\n",
    "\n",
    "a=\"hi, I am Muhammad Shahzeb\"\n",
    "print (a)\n",
    "\n",
    "print(9**2/8/3+4-9)  # implementing the logic of PEMDAS\n",
    "\n",
    "print(9//2)# will return integer value\n",
    "print(9/2)  # will return floated value\n",
    "\n",
    "x=12\n",
    "y=12.5\n",
    "z=\"HI How are you doing\"\n",
    "print(type(x),type(y),type(z))   #checking the type of variables\n",
    "\n",
    "\n"
   ]
  },
  {
   "cell_type": "markdown",
   "id": "d7323399",
   "metadata": {},
   "source": [
    "### input and conditional logics"
   ]
  },
  {
   "cell_type": "code",
   "execution_count": 9,
   "id": "9eab98b3",
   "metadata": {},
   "outputs": [
    {
     "name": "stdout",
     "output_type": "stream",
     "text": [
      " What is your name\n",
      "Welcome Mr or Mrs \n"
     ]
    }
   ],
   "source": [
    "name=input(\" What is your name\")\n",
    "greetings=\"Welcome Mr or Mrs\"\n",
    "print(greetings, name)"
   ]
  },
  {
   "cell_type": "code",
   "execution_count": 16,
   "id": "a9f92eda",
   "metadata": {},
   "outputs": [
    {
     "name": "stdout",
     "output_type": "stream",
     "text": [
      "True\n",
      "False\n",
      "True\n",
      "False\n",
      "True\n",
      "True\n",
      "False\n"
     ]
    }
   ],
   "source": [
    "print(4==4)\n",
    "print(4>6)\n",
    "print(4<6)\n",
    "print(\"HI this is Ahmed\">\"Hamid\")\n",
    "print(78>=78 and 78==78)\n",
    "print(89==0 or 0<78)\n",
    "print(89==0 and 0<78)\n",
    "\n",
    "# print(78=78 or 78<79)#if else"
   ]
  },
  {
   "cell_type": "code",
   "execution_count": 22,
   "id": "ad56fa94",
   "metadata": {},
   "outputs": [
    {
     "name": "stdout",
     "output_type": "stream",
     "text": [
      "Enter your age17\n",
      "you are admitted in college\n"
     ]
    }
   ],
   "source": [
    "age= int(input(\"Enter your age\"))\n",
    "if age > 5 and age <16:\n",
    "    print(\"you are admitted to school\")\n",
    "elif age>16 and age < 18:\n",
    "    print(\"you are admitted in college\")\n",
    "elif age>18:\n",
    "    print(\"you are admitted in Uni\")\n",
    "else:\n",
    "    print(\"you should be taken care off\")"
   ]
  },
  {
   "cell_type": "markdown",
   "id": "4d495d1a",
   "metadata": {},
   "source": [
    "### Loop"
   ]
  },
  {
   "cell_type": "code",
   "execution_count": 24,
   "id": "a5570570",
   "metadata": {},
   "outputs": [
    {
     "name": "stdout",
     "output_type": "stream",
     "text": [
      "Biryani\n",
      "Coke\n",
      "Raita\n",
      "Salad\n"
     ]
    }
   ],
   "source": [
    "list_of_food=[\"Biryani\",\"Coke\",\"Raita\",\"Salad\"]\n",
    "for food in list_of_food:\n",
    "    print(food)"
   ]
  },
  {
   "cell_type": "code",
   "execution_count": 25,
   "id": "ca923128",
   "metadata": {},
   "outputs": [
    {
     "name": "stdout",
     "output_type": "stream",
     "text": [
      "78\n",
      "79\n",
      "80\n",
      "81\n",
      "82\n",
      "83\n",
      "84\n",
      "85\n",
      "86\n",
      "87\n",
      "88\n",
      "89\n",
      "90\n",
      "91\n",
      "92\n",
      "93\n",
      "94\n",
      "95\n",
      "96\n",
      "97\n",
      "98\n",
      "99\n",
      "100\n",
      "101\n",
      "102\n",
      "103\n",
      "104\n",
      "105\n",
      "106\n",
      "107\n",
      "108\n",
      "109\n",
      "110\n",
      "111\n",
      "112\n",
      "113\n",
      "114\n",
      "115\n",
      "116\n",
      "117\n",
      "118\n",
      "119\n",
      "120\n",
      "121\n",
      "122\n",
      "123\n",
      "124\n",
      "125\n",
      "126\n",
      "127\n",
      "128\n",
      "129\n",
      "130\n",
      "131\n",
      "132\n",
      "133\n",
      "134\n",
      "135\n",
      "136\n",
      "137\n",
      "138\n",
      "139\n",
      "140\n",
      "141\n",
      "142\n",
      "143\n",
      "144\n",
      "145\n",
      "146\n",
      "147\n",
      "148\n",
      "149\n",
      "150\n",
      "151\n",
      "152\n",
      "153\n",
      "154\n",
      "155\n",
      "156\n",
      "157\n",
      "158\n",
      "159\n",
      "160\n",
      "161\n",
      "162\n",
      "163\n",
      "164\n",
      "165\n",
      "166\n",
      "167\n",
      "168\n",
      "169\n",
      "170\n",
      "171\n",
      "172\n",
      "173\n",
      "174\n",
      "175\n",
      "176\n",
      "177\n",
      "178\n",
      "179\n",
      "180\n",
      "181\n",
      "182\n",
      "183\n",
      "184\n",
      "185\n",
      "186\n",
      "187\n",
      "188\n",
      "189\n",
      "190\n",
      "191\n",
      "192\n",
      "193\n",
      "194\n",
      "195\n",
      "196\n",
      "197\n",
      "198\n",
      "199\n",
      "200\n",
      "201\n",
      "202\n",
      "203\n",
      "204\n",
      "205\n",
      "206\n",
      "207\n",
      "208\n",
      "209\n",
      "210\n",
      "211\n",
      "212\n",
      "213\n",
      "214\n",
      "215\n",
      "216\n",
      "217\n",
      "218\n",
      "219\n",
      "220\n",
      "221\n",
      "222\n",
      "223\n",
      "224\n",
      "225\n",
      "226\n",
      "227\n",
      "228\n",
      "229\n",
      "230\n",
      "231\n",
      "232\n",
      "233\n"
     ]
    }
   ],
   "source": [
    "for x in range(78,234):\n",
    "    print(x)"
   ]
  },
  {
   "cell_type": "code",
   "execution_count": 27,
   "id": "939321ef",
   "metadata": {},
   "outputs": [
    {
     "name": "stdout",
     "output_type": "stream",
     "text": [
      "1\n",
      "2\n",
      "3\n",
      "4\n",
      "5\n",
      "6\n",
      "7\n"
     ]
    }
   ],
   "source": [
    "weekdays=[1,2,3,4,5,6,7]\n",
    "for d in weekdays:\n",
    "    print(d)\n",
    "        "
   ]
  },
  {
   "cell_type": "code",
   "execution_count": 39,
   "id": "95aa77f8",
   "metadata": {},
   "outputs": [
    {
     "name": "stdout",
     "output_type": "stream",
     "text": [
      "1\n",
      "2\n"
     ]
    }
   ],
   "source": [
    "weekdays=[1,2,3,4,5,6,7]\n",
    "for d in weekdays:\n",
    "    if d==3:break\n",
    "    print(d)\n",
    "        "
   ]
  },
  {
   "cell_type": "code",
   "execution_count": 40,
   "id": "a58637b2",
   "metadata": {},
   "outputs": [
    {
     "name": "stdout",
     "output_type": "stream",
     "text": [
      "1\n",
      "2\n",
      "3\n",
      "4\n",
      "6\n",
      "7\n"
     ]
    }
   ],
   "source": [
    "weekdays=[1,2,3,4,5,6,7]\n",
    "for d in weekdays:\n",
    "    if d==5:continue\n",
    "    print(d)\n",
    "        "
   ]
  },
  {
   "cell_type": "markdown",
   "id": "4c7d761e",
   "metadata": {},
   "source": [
    "### Functions"
   ]
  },
  {
   "cell_type": "code",
   "execution_count": 47,
   "id": "b83cd844",
   "metadata": {},
   "outputs": [
    {
     "name": "stdout",
     "output_type": "stream",
     "text": [
      "hahahahahahahahahahahaha\n",
      "Welcome Muhammad Shahzeb\n"
     ]
    }
   ],
   "source": [
    "def do_print():# print(12*\"hi\")\n",
    "    print(12*\"ha\")\n",
    "do_print()\n",
    "\n",
    "def name(text):\n",
    "    print(\"Welcome\",text)\n",
    "\n",
    "name(\"Muhammad Shahzeb\")\n",
    "\n",
    "\n"
   ]
  },
  {
   "cell_type": "markdown",
   "id": "6860fa98",
   "metadata": {},
   "source": [
    "\n",
    "### Libraries"
   ]
  },
  {
   "cell_type": "code",
   "execution_count": 52,
   "id": "ec9a852a",
   "metadata": {},
   "outputs": [
    {
     "name": "stdout",
     "output_type": "stream",
     "text": [
      "4.356708826689592\n",
      "13.687004443757829\n",
      "23.5\n",
      "23\n"
     ]
    }
   ],
   "source": [
    "import math\n",
    "import statistics\n",
    "\n",
    "a= 78\n",
    "f=math.log(a)\n",
    "print(f)\n",
    "\n",
    "g=f*math.pi\n",
    "print(g)\n",
    "\n",
    "\n",
    "x=[23,5,56,7,6,12,34,45]\n",
    "# x=statistics.mean(x)\n",
    "# print(x)\n",
    "print(statistics.mean(x)) # will print the mean of x\n",
    "print(statistics.mode(x))"
   ]
  },
  {
   "cell_type": "markdown",
   "id": "c329773e",
   "metadata": {},
   "source": [
    "### Indexing"
   ]
  },
  {
   "cell_type": "code",
   "execution_count": 62,
   "id": "e933b6d7",
   "metadata": {},
   "outputs": [
    {
     "name": "stdout",
     "output_type": "stream",
     "text": [
      "M a\n",
      "Muhammad Shahzeb\n",
      "Mb 16\n",
      "b\n",
      "hz\n"
     ]
    }
   ],
   "source": [
    "#slicing\n",
    "name= \"Muhammad Shahzeb\"\n",
    "a=name[0]\n",
    "b=name[3]\n",
    "c=name[0:len(name)]\n",
    "print(a,b)\n",
    "print(c)\n",
    "\n",
    "d=name[0::15]#slicing  shows staritng and ending character\n",
    "e=len(name)\n",
    "print(d,e)\n",
    "print(name[-1]) #start in reverse order\n",
    "print(name[-4:-2])"
   ]
  },
  {
   "cell_type": "code",
   "execution_count": 65,
   "id": "29de0910",
   "metadata": {},
   "outputs": [
    {
     "name": "stdout",
     "output_type": "stream",
     "text": [
      "Muhammad shahzeb\n",
      "muhammad shahzeb\n",
      "MUHAMMAD SHAHZEB\n",
      "Mohammad Shahzeb\n",
      "3\n",
      "9\n",
      "['Shahan', 'Hayyan', 'Ali', 'Osama', 'Abdul', 'Shoaib']\n"
     ]
    }
   ],
   "source": [
    "#string Methods\n",
    "\n",
    "name=\"Muhammad Shahzeb\"\n",
    "print(name.capitalize())\n",
    "print(name.lower())\n",
    "print(name.upper())\n",
    "print(name.replace('u','o'))\n",
    "print(name.count(\"a\"))\n",
    "print(name.find(\"Shah\"))\n",
    "\n",
    "\n",
    "friends=\"Shahan Hayyan Ali Osama Abdul Shoaib\"\n",
    "print(friends.split())\n"
   ]
  }
 ],
 "metadata": {
  "kernelspec": {
   "display_name": "Python 3",
   "language": "python",
   "name": "python3"
  },
  "language_info": {
   "codemirror_mode": {
    "name": "ipython",
    "version": 3
   },
   "file_extension": ".py",
   "mimetype": "text/x-python",
   "name": "python",
   "nbconvert_exporter": "python",
   "pygments_lexer": "ipython3",
   "version": "3.8.8"
  }
 },
 "nbformat": 4,
 "nbformat_minor": 5
}
